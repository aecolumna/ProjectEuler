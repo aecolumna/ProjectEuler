{
 "metadata": {
  "name": "",
  "signature": "sha256:0e354461ab6561551b656cbaa89681de4b0dab29a80b712c4c550534636e51d1"
 },
 "nbformat": 3,
 "nbformat_minor": 0,
 "worksheets": [
  {
   "cells": [
    {
     "cell_type": "heading",
     "level": 4,
     "metadata": {},
     "source": [
      "The prime factors of 13195 are 5, 7, 13 and 29."
     ]
    },
    {
     "cell_type": "heading",
     "level": 5,
     "metadata": {},
     "source": [
      "What is the largest prime factor of the number 600851475143 ?"
     ]
    },
    {
     "cell_type": "heading",
     "level": 6,
     "metadata": {},
     "source": [
      "Answer: 6857"
     ]
    },
    {
     "cell_type": "code",
     "collapsed": false,
     "input": [
      "def is_prime(n):\n",
      "    # loop looks at odd numbers 3, 5, 7, ... to sqrt(n)\n",
      "    for i in arange(3, int(n**0.5)+1, 2):\n",
      "        if n % i == 0:\n",
      "            return False\n",
      "    return True"
     ],
     "language": "python",
     "metadata": {},
     "outputs": [],
     "prompt_number": 74
    },
    {
     "cell_type": "code",
     "collapsed": false,
     "input": [
      "num = 600851475143\n",
      "arr = (arange(3,int(num**0.5)+1,2))[num%arr == 0]\n",
      "for i in arange(3, int(n**0.5)+1, 2):\n",
      "        if n % i == 0:\n",
      "            continue\n",
      "    p"
     ],
     "language": "python",
     "metadata": {},
     "outputs": [],
     "prompt_number": 87
    },
    {
     "cell_type": "code",
     "collapsed": false,
     "input": [],
     "language": "python",
     "metadata": {},
     "outputs": [
      {
       "metadata": {},
       "output_type": "pyout",
       "prompt_number": 76,
       "text": [
        "array([    71,    839,   1471,   6857,  59569, 104441, 486847])"
       ]
      }
     ],
     "prompt_number": 76
    }
   ],
   "metadata": {}
  }
 ]
}